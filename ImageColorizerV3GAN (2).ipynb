```json
{
  "nbformat": 4,
  "nbformat_minor": 0,
  "metadata": {
    "colab": {
      "provenance": [],
      "include_colab_link": true
    },
    "kernelspec": {
      "name": "python3",
      "display_name": "Python 3"
    },
    "accelerator": "GPU"
  },
  "cells": [
    {
      "cell_type": "markdown",
      "metadata": {
        "id": "view-in-github",
        "colab_type": "text"
      },
      "source": [
        "<a href=\"https://colab.research.google.com/github/Jess-Lau/Real-Life-B-W-Video-Colorization-Project/blob/main/ImageColorizerV3GAN.ipynb\" target=\"_parent\"><img src=\"https://colab.research.google.com/assets/colab-badge.svg\" alt=\"Open In Colab\"/></a>"
      ]
    },
    {
      "cell_type": "code",
      "metadata": {
        "id": "aDQXAOHS8LZh"
      },
      "source": [
        "import os\n",
        "import sys\n",
        "import numpy as np\n",
        "import tensorflow as tf\n",
        "import matplotlib.pyplot as plt\n",
        "from datetime import datetime\n",
        "from keras.layers import (\n",
        "    Activation, AveragePooling2D, BatchNormalization, Conv2D, Conv2DTranspose,\n",
        "    Dense, Dropout, Flatten, Input, LeakyReLU, ReLU, UpSampling2D)\n",
        "from keras.datasets import cifar10\n",
        "from keras.models import Sequential, Model\n",
        "from time import time\n",
        "from skimage.color import rgb2lab, lab2rgb\n",
        "\n",
        "IMAGE_SIZE = 32\n",
        "EPOCHS = 100\n",
        "BATCH_SIZE = 128\n",
        "SHUFFLE_BUFFER_SIZE = 100\n",
        "\n",
        "WORKDIR = \"/content\""
      ],
      "execution_count": 2,
      "outputs": []
    },
    {
      "cell_type": "code",
      "metadata": {
        "id": "fv2attTI8OWz",
        "colab": {
          "base_uri": "https://localhost:8080/"
        },
        "outputId": "e6af0620-aaec-4de5-e7ff-527302949433"
      },
      "source": [
        "def generate_dataset(images, debug=False):\n",
        "    X = []\n",
        "    Y = []\n",
        "\n",
        "    for i in images:\n",
        "        lab_image_array = rgb2lab(i / 255)\n",
        "        x = lab_image_array[:, :, 0]\n",
        "        y = lab_image_array[:, :, 1:]\n",
        "        y /= 128  # normalize\n",
        "\n",
        "        if debug:\n",
        "            fig = plt.figure()\n",
        "            fig.add_subplot(1, 2, 1)\n",
        "            plt.imshow(i / 255)\n",
        "\n",
        "            fig.add_subplot(1, 2, 2)\n",
        "            plt.imshow(lab2rgb(np.dstack((x, y * 128))))\n",
        "            plt.show()\n",
        "\n",
        "        X.append(x.reshape(IMAGE_SIZE, IMAGE_SIZE, 1))\n",
        "        Y.append(y)\n",
        "\n",
        "    X = np.array(X, dtype=np.float32)\n",
        "    Y = np.array(Y, dtype=np.float32)\n",
        "\n",
        "    return X, Y\n",
        "\n",
        "\n",
        "def load_data(force=False):\n",
        "    is_saved_arrays_exist = os.path.isfile(os.path.join(WORKDIR, 'X_train.npy'))\n",
        "\n",
        "    if not is_saved_arrays_exist or force:\n",
        "        (train_images, _), (test_images, _) = cifar10.load_data()\n",
        "        X_train, Y_train = generate_dataset(train_images)\n",
        "        X_test, Y_test = generate_dataset(test_images)\n",
        "        print('Saving processed data to Drive')\n",
        "        np.save(os.path.join(WORKDIR, 'X_train.npy'), X_train)\n",
        "        np.save(os.path.join(WORKDIR, 'Y_train.npy'), Y_train)\n",
        "        np.save(os.path.join(WORKDIR, 'X_test.npy'), X_test)\n",
        "        np.save(os.path.join(WORKDIR, 'Y_test.npy'), Y_test)\n",
        "    else:\n",
        "        print('Loading processed data from Drive')\n",
        "        X_train = np.load(os.path.join(WORKDIR, 'X_train.npy'))\n",
        "        Y_train = np.load(os.path.join(WORKDIR, 'Y_train.npy'))\n",
        "        X_test = np.load(os.path.join(WORKDIR, 'X_test.npy'))\n",
        "        Y_test = np.load(os.path.join(WORKDIR, 'Y_test.npy'))\n",
        "\n",
        "    return X_train, Y_train, X_test, Y_test\n",
        "\n",
        "X_train, Y_train, X_test, Y_test = load_data()\n",
        "\n",
        "train_dataset = tf.data.Dataset.from_tensor_slices((X_train, Y_train))\n",
        "test_dataset = tf.data.Dataset.from_tensor_slices((X_test, Y_test))\n",
        "\n",
        "train_dataset = train_dataset.shuffle(SHUFFLE_BUFFER_SIZE).batch(BATCH_SIZE)\n",
        "test_dataset = test_dataset.batch(BATCH_SIZE)"
      ],
      "execution_count": 13,
      "outputs": [
        {
          "output_type": "stream",
          "name": "stdout",
          "text": [
            "Loading processed data from Drive\n"
          ]
        }
      ]
    },
    {
      "cell_type": "code",
      "metadata": {
        "id": "cJvTBV-p8feY"
      },
      "source": [
        "def make_generator_model():\n",
        "    model = Sequential()\n",
        "    model.add(Conv2D(32, (3, 3), padding='same', activation='relu', input_shape=(IMAGE_SIZE, IMAGE_SIZE, 1)))\n",
        "    model.add(Conv2D(64, (3, 3), padding='same', strides=2, activation='relu'))\n",
        "    model.add(BatchNormalization())\n",
        "    model.add(Conv2D(128, (3, 3), padding='same', activation='relu', strides=2))\n",
        "    model.add(Conv2D(128, (3, 3), padding='same', activation='relu'))\n",
        "    model.add(BatchNormalization())\n",
        "    model.add(Conv2D(256, (3, 3), padding='same'))\n",
        "    model.add(Activation('relu'))\n",
        "    model.add(BatchNormalization())\n",
        "    model.add(UpSampling2D(size=(2,2)))\n",
        "    model.add(Conv2D(128, (3, 3), padding='same', activation='relu'))\n",
        "    model.add(BatchNormalization())\n",
        "    model.add(UpSampling2D(size=(2,2)))\n",
        "    model.add(Conv2D(64, (3, 3), padding='same', activation='relu'))\n",
        "    model.add(BatchNormalization())\n",
        "    model.add(Conv2D(32, (3, 3), padding='same', activation='relu'))\n",
        "    model.add(Conv2D(2, (3, 3), padding='same'))\n",
        "    model.add(BatchNormalization())\n",
        "    model.add(Activation('tanh'))\n",
        "    return model"
      ],
      "execution_count": 4,
      "outputs": []
    },
    {
      "cell_type": "code",
      "metadata": {
        "id": "zChqzKKgmFHw"
      },
      "source": [
        "def downsample(filters, kernel_size, apply_batchnorm=True):\n",
        "    initializer = tf.random_uniform_initializer(0, 0.02)\n",
        "    model = Sequential()\n",
        "    model.add(Conv2D(filters, kernel_size, strides=2, padding='same',\n",
        "                     kernel_initializer=initializer, use_bias=False))\n",
        "    if apply_batchnorm:\n",
        "        model.add(BatchNormalization())\n",
        "    model.add(LeakyReLU())\n",
        "    return model\n",
        "\n",
        "def upsample(filters, kernel_size, apply_dropout=False):\n",
        "    initializer = tf.random_uniform_initializer(0, 0.02)\n",
        "    model = Sequential()\n",
        "    model.add(Conv2DTranspose(filters, kernel_size, strides=2, padding='same',\n",
        "                              kernel_initializer=initializer, use_bias=False))\n",
        "    model.add(BatchNormalization())\n",
        "    if apply_dropout:\n",
        "        model.add(Dropout(0.5))\n",
        "    model.add(ReLU())\n",
        "    return model\n",
        "\n",
        "def make_autoencoder_generator_model():\n",
        "    inputs = Input(shape=(IMAGE_SIZE, IMAGE_SIZE, 1))\n",
        "\n",
        "    # Downsampling layers\n",
        "    # 1: (BATCH_SIZE, 16, 16, 32)\n",
        "    # 2: (BATCH_SIZE, 8, 8, 64)\n",
        "    # 3: (BATCH_SIZE, 4, 4, 128)\n",
        "    # 4: (BATCH_SIZE, 2, 2, 256)\n",
        "    # 5: (BATCH_SIZE, 1, 1, 256)\n",
        "\n",
        "    downstack = [\n",
        "        downsample(32, 4, apply_batchnorm=False),\n",
        "        downsample(64, 4),\n",
        "        downsample(128, 4),\n",
        "        downsample(256, 4),\n",
        "        downsample(256, 4)\n",
        "    ]\n",
        "\n",
        "    # Upsampling layers\n",
        "    # 1: (BATCH_SIZE, 1, 1, 256)\n",
        "    # 2: (BATCH_SIZE, 1, 1, 128)\n",
        "    # 3: (BATCH_SIZE, 1, 1, 64)\n",
        "    # 4: (BATCH_SIZE, 1, 1, 32)\n",
        "\n",
        "    upstack = [\n",
        "        upsample(256, 4, apply_dropout=True),\n",
        "        upsample(128, 4),\n",
        "        upsample(64, 4),\n",
        "        upsample(32, 4),\n",
        "    ]\n",
        "\n",
        "    initializer = tf.random_uniform_initializer(0, 0.02)\n",
        "    output_layer = Conv2DTranspose(2, 3, strides=2, padding='same',\n",
        "                                   kernel_initializer=initializer,\n",
        "                                   activation='tanh')\n",
        "\n",
        "    x = inputs\n",
        "\n",
        "    # Downsampling layers\n",
        "    skips = []\n",
        "    for dm in downstack:\n",
        "        x = dm(x)\n",
        "        skips.append(x)\n",
        "\n",
        "    skips = reversed(skips[:-1])\n",
        "\n",
        "    # Upsampling layers\n",
        "    for um, skip in zip(upstack, skips):\n",
        "        x = um(x)\n",
        "        x = tf.keras.layers.Concatenate()([x, skip])\n",
        "\n",
        "    x = output_layer(x)\n",
        "\n",
        "    return Model(inputs=inputs, outputs=x)"
      ],
      "execution_count": 5,
      "outputs": []
    },
    {
      "cell_type": "code",
      "metadata": {
        "id": "1K3rj5IK8kyP"
      },
      "source": [
        "def make_discriminator_model():\n",
        "    model = Sequential()\n",
        "    model.add(Conv2D(32, (3, 3), padding='same', activation='relu', input_shape=(IMAGE_SIZE, IMAGE_SIZE, 3)))\n",
        "    model.add(Conv2D(32, (3, 3), padding='same', activation='relu'))\n",
        "    model.add(AveragePooling2D(pool_size=(2, 2)))\n",
        "    model.add(Dropout(.25))\n",
        "    model.add(Conv2D(64, (3, 3), padding='same', activation='relu'))\n",
        "    model.add(Conv2D(64, (3, 3), padding='same', activation='relu'))\n",
        "    model.add(AveragePooling2D(pool_size=(2, 2)))\n",
        "    model.add(Dropout(.25))\n",
        "    model.add(Flatten())\n",
        "    model.add(Dense(512))\n",
        "    model.add(LeakyReLU(.2))\n",
        "    model.add(BatchNormalization())\n",
        "    model.add(Dropout(.5))\n",
        "    model.add(Dense(1))\n",
        "    model.add(Activation('sigmoid'))\n",
        "    return model"
      ],
      "execution_count": 6,
      "outputs": []
    },
    {
      "cell_type": "code",
      "metadata": {
        "id": "GR_ML92o8mP7"
      },
      "source": [
        "LAMBDA = 100\n",
        "cross_entropy = tf.keras.losses.BinaryCrossentropy(from_logits=False)\n",
        "\n",
        "def discriminator_loss(disc_real_output, disc_generated_output):\n",
        "    real_loss = cross_entropy(tf.ones_like(disc_real_output), disc_real_output)\n",
        "    generated_loss = cross_entropy(tf.zeros_like(disc_generated_output), disc_generated_output)\n",
        "    total_disc_loss = real_loss + generated_loss\n",
        "    return total_disc_loss\n",
        "\n",
        "def generator_loss(disc_generated_output, gen_output, target):\n",
        "    gan_loss = cross_entropy(tf.ones_like(disc_generated_output), disc_generated_output)\n",
        "    l1_loss = tf.reduce_mean(tf.abs(target - gen_output))\n",
        "    total_gen_loss = gan_loss + (LAMBDA * l1_loss)\n",
        "    return total_gen_loss, gan_loss, l1_loss"
      ],
      "execution_count": 7,
      "outputs": []
    },
    {
      "cell_type": "code",
      "metadata": {
        "id": "Vj2E6Mu58nhh",
        "colab": {
          "base_uri": "https://localhost:8080/"
        },
        "outputId": "b6e25b04-71a1-44d6-d2a5-35e05d826851"
      },
      "source": [
        "generator = make_autoencoder_generator_model()\n",
        "discriminator = make_discriminator_model()\n",
        "\n",
        "generator_optimizer = tf.keras.optimizers.Adam(2e-4, beta_1=0.5)\n",
        "discriminator_optimizer = tf.keras.optimizers.Adam(2e-4, beta_1=0.5)\n",
        "\n",
        "checkpoint_dir = os.path.join(WORKDIR, 'training-checkpoints')\n",
        "checkpoint_prefix = os.path.join(checkpoint_dir, \"ckpt\")\n",
        "checkpoint = tf.train.Checkpoint(generator_optimizer=generator_optimizer,\n",
        "                                 discriminator_optimizer=discriminator_optimizer,\n",
        "                                 generator=generator,\n",
        "                                 discriminator=discriminator)\n",
        "manager = tf.train.CheckpointManager(checkpoint, checkpoint_dir, max_to_keep=3)"
      ],
      "execution_count": 8,
      "outputs": [
        {
          "output_type": "stream",
          "name": "stderr",
          "text": [
            "/usr/local/lib/python3.11/dist-packages/keras/src/layers/convolutional/base_conv.py:107: UserWarning: Do not pass an `input_shape`/`input_dim` argument to a layer. When using Sequential models, specify the `input_shape` parameter in the first layer only. Specifically, `input_shape=(32, 32, 1)` should be passed to the first layer, and not to any subsequent layers.\n",
            "  super().__init__(activity_regularizer=activity_regularizer, **kwargs)\n"
          ]
        }
      ]
    },
    {
      "cell_type": "code",
      "metadata": {
        "id": "JsH4W1-x8otE"